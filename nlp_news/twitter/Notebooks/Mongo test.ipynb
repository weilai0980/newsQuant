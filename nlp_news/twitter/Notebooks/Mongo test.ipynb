{
 "cells": [
  {
   "cell_type": "code",
   "execution_count": 2,
   "metadata": {},
   "outputs": [],
   "source": [
    "from pymongo import MongoClient\n",
    "import urllib"
   ]
  },
  {
   "cell_type": "markdown",
   "metadata": {},
   "source": [
    "https://api.mongodb.com/python/current/tutorial.html"
   ]
  },
  {
   "cell_type": "code",
   "execution_count": 4,
   "metadata": {},
   "outputs": [
    {
     "data": {
      "text/plain": [
       "<pymongo.results.InsertOneResult at 0x10507f3c8>"
      ]
     },
     "execution_count": 4,
     "metadata": {},
     "output_type": "execute_result"
    }
   ],
   "source": [
    "raw_pass = 'sdqy<5q9UW6JDhV'\n",
    "url = \"mongodb://CDteam1:\" + urllib.parse.quote_plus(raw_pass) + \"@spaceml4.ethz.ch:27017/CDteam1DB\"\n",
    "client = MongoClient(url)\n",
    "db = client.CDteam1DB\n",
    "foo = db.foo\n",
    "foo.insert_one({\n",
    "    \"a\": 3,\n",
    "    \"b\": 2\n",
    "})"
   ]
  },
  {
   "cell_type": "code",
   "execution_count": 16,
   "metadata": {},
   "outputs": [
    {
     "name": "stdout",
     "output_type": "stream",
     "text": [
      "{u'key2': u'value 2', u'key1': u'value 1', u'_id': ObjectId('5b1562c7b77ed51a2e295c9f')}\n",
      "{u'_id': ObjectId('5b15695f82576d0bf00b9b57'), u'key': u'value'}\n"
     ]
    }
   ],
   "source": [
    "for obj in db.foo.find():\n",
    "    print obj"
   ]
  },
  {
   "cell_type": "code",
   "execution_count": null,
   "metadata": {
    "collapsed": true
   },
   "outputs": [],
   "source": []
  }
 ],
 "metadata": {
  "kernelspec": {
   "display_name": "Python 3",
   "language": "python",
   "name": "python3"
  },
  "language_info": {
   "codemirror_mode": {
    "name": "ipython",
    "version": 3
   },
   "file_extension": ".py",
   "mimetype": "text/x-python",
   "name": "python",
   "nbconvert_exporter": "python",
   "pygments_lexer": "ipython3",
   "version": "3.6.3"
  }
 },
 "nbformat": 4,
 "nbformat_minor": 2
}
